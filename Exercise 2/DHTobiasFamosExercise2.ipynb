{
 "cells": [
  {
   "cell_type": "markdown",
   "source": [
    "# Digital Humanities Exercise 2\n",
    "Author: Tobias Famos"
   ],
   "metadata": {
    "collapsed": false
   }
  },
  {
   "cell_type": "markdown",
   "source": [
    "## Theoretical Questions\n",
    "### 1) Cite four differences between XML and HTML standards.\n",
    "- All XML tags must have a closing tag. HTML can have not closed tags (e.g. `<br>`)\n",
    "- XML is case sensitive, HTML is case insensitive\n",
    "- The goal: XML is made mainly to transport and save data, HTML is made to present data\n",
    "- XML can have an unlimited number of tags, the user can create new tags as he goes. HTML has a specific set of tags that are allowed.\n",
    "\n",
    "### 2) Are both XML and HTML fully declarative languages?\n",
    "A declarative language is a programming language that does not specify any control flow elements. This means it tells the user (i.e. the executing machine) **what** to do but not **when** to do what.\n",
    "Both HTML and XML are are fully declarative. XML just describes how the data is structured and HTML only describes how the data must be presented."
   ],
   "metadata": {
    "collapsed": false
   }
  },
  {
   "cell_type": "markdown",
   "source": [
    "# Practical Questions (consider the French Theater data)\n",
    "### 1:How many unique author names can you find?\n"
   ],
   "metadata": {
    "collapsed": false
   }
  },
  {
   "cell_type": "code",
   "execution_count": 42,
   "metadata": {
    "collapsed": true
   },
   "outputs": [],
   "source": [
    "import os\n",
    "import lxml\n",
    "from bs4 import BeautifulSoup\n",
    "import pandas\n",
    "import re\n"
   ]
  },
  {
   "cell_type": "code",
   "execution_count": 43,
   "outputs": [],
   "source": [
    "def get_author_tag(fileName):\n",
    "    # Reading data from the xml file\n",
    "    with open(fileName, 'r', encoding='iso-8859-1') as f:\n",
    "        content = f.readlines()\n",
    "        content = \"\".join(content)\n",
    "        bs_content = BeautifulSoup(content, \"lxml\")\n",
    "        author_tag = bs_content.findAll('author')[0]\n",
    "        return author_tag.getText()"
   ],
   "metadata": {
    "collapsed": false,
    "pycharm": {
     "name": "#%%\n"
    }
   }
  },
  {
   "cell_type": "code",
   "execution_count": 44,
   "outputs": [],
   "source": [
    "# assign directory\n",
    "directory = 'data'\n",
    "# iterate over files in\n",
    "# that directory\n",
    "all_files = []\n",
    "for filename in os.listdir(directory):\n",
    "    f = os.path.join(directory, filename)\n",
    "    # checking if it is a file\n",
    "    if os.path.isfile(f):\n",
    "        all_files.append(f)\n"
   ],
   "metadata": {
    "collapsed": false,
    "pycharm": {
     "name": "#%%\n"
    }
   }
  },
  {
   "cell_type": "code",
   "execution_count": 45,
   "outputs": [
    {
     "data": {
      "text/plain": "                            XML Tag\n0                           Molière\n1  LA CALPRENEDE, Gautier Costes de\n2                          VOLTAIRE\n3      DANCOURT, Florent CARTON dit\n4               REGNARD et DUFRESNY",
      "text/html": "<div>\n<style scoped>\n    .dataframe tbody tr th:only-of-type {\n        vertical-align: middle;\n    }\n\n    .dataframe tbody tr th {\n        vertical-align: top;\n    }\n\n    .dataframe thead th {\n        text-align: right;\n    }\n</style>\n<table border=\"1\" class=\"dataframe\">\n  <thead>\n    <tr style=\"text-align: right;\">\n      <th></th>\n      <th>XML Tag</th>\n    </tr>\n  </thead>\n  <tbody>\n    <tr>\n      <th>0</th>\n      <td>Molière</td>\n    </tr>\n    <tr>\n      <th>1</th>\n      <td>LA CALPRENEDE, Gautier Costes de</td>\n    </tr>\n    <tr>\n      <th>2</th>\n      <td>VOLTAIRE</td>\n    </tr>\n    <tr>\n      <th>3</th>\n      <td>DANCOURT, Florent CARTON dit</td>\n    </tr>\n    <tr>\n      <th>4</th>\n      <td>REGNARD et DUFRESNY</td>\n    </tr>\n  </tbody>\n</table>\n</div>"
     },
     "execution_count": 45,
     "metadata": {},
     "output_type": "execute_result"
    }
   ],
   "source": [
    "df = pandas.DataFrame(columns=['XML Tag'])\n",
    "for file in all_files:\n",
    "    author_string = get_author_tag(file)\n",
    "    df.loc[len(df)] = author_string\n",
    "\n",
    "df.head(5)"
   ],
   "metadata": {
    "collapsed": false,
    "pycharm": {
     "name": "#%%\n"
    }
   }
  },
  {
   "cell_type": "code",
   "execution_count": 46,
   "outputs": [
    {
     "name": "stdout",
     "output_type": "stream",
     "text": [
      "197 Unique author tag contents\n"
     ]
    }
   ],
   "source": [
    "print(f'{len(df.value_counts())} Unique author tag contents')\n",
    "value_counts = df.groupby(by='XML Tag')"
   ],
   "metadata": {
    "collapsed": false,
    "pycharm": {
     "name": "#%%\n"
    }
   }
  },
  {
   "cell_type": "code",
   "execution_count": 46,
   "outputs": [],
   "source": [],
   "metadata": {
    "collapsed": false,
    "pycharm": {
     "name": "#%%\n"
    }
   }
  },
  {
   "cell_type": "markdown",
   "source": [
    "I found 197 unique author tag contents. This does not mean, that those are unique authors, but unique names of authors."
   ],
   "metadata": {
    "collapsed": false
   }
  },
  {
   "cell_type": "markdown",
   "source": [
    "### 2: Are you sure that all these unique names refer to distinct authors?\n",
    "No I am by no means sure, that they are unique names. There are most likely a lot of duplicates in there (as the authors might have been written differently in different tags)\n",
    "\n",
    "### 3: Can you reduce the variability around the author names\n",
    "We can reduce the duplicates by doing the following improvements upon the authors. These are mistakes or duplicate ways to write authors."
   ],
   "metadata": {
    "collapsed": false
   }
  },
  {
   "cell_type": "code",
   "execution_count": 49,
   "outputs": [
    {
     "name": "stdout",
     "output_type": "stream",
     "text": [
      "New count of unique authors 188\n"
     ]
    }
   ],
   "source": [
    "def apply_rules(row):\n",
    "    row = str.lower(str(row['XML Tag']))\n",
    "    row = re.sub(\"\\(anonyme\\)\",\"anonyme\", row)\n",
    "    row = re.sub(\"geroges\", \"georges\", row)\n",
    "    row = re.sub(\"voltaire, françois-marie arouet de\", \"voltaire\", row)\n",
    "    row = re.sub(\"chabanon, michel-paul-guy de\", \"chabanon, michel paul guy de\", row)\n",
    "    row = re.sub(\"nan\", \"anonyme\", row)\n",
    "    row = re.sub(\"moliï¿½re\", \"molière\", row)\n",
    "\n",
    "    return row\n",
    "\n",
    "\n",
    "## correct_predictions = df.apply(lambda row: is_correct_prediction(row, 'prediction'), axis=1)is_correct_prediction\n",
    "\n",
    "df['corrected'] = df.apply(lambda row: apply_rules(row), axis=1)\n",
    "value_counts_lower_case = len(df[\"corrected\"].value_counts())\n",
    "\n",
    "print(f'New count of unique authors {value_counts_lower_case}')\n"
   ],
   "metadata": {
    "collapsed": false,
    "pycharm": {
     "name": "#%%\n"
    }
   }
  },
  {
   "cell_type": "markdown",
   "source": [
    "## 4) Can you count the number of plays per author?\n",
    "Sure, lets take the last string normalization step we had and group it. Then we get how many times all the authors show up in our dataset and thus how many plays they wrote."
   ],
   "metadata": {
    "collapsed": false
   }
  },
  {
   "cell_type": "code",
   "execution_count": 48,
   "outputs": [
    {
     "data": {
      "text/plain": "dancourt, florent carton dit                       49\nvoltaire                                           38\nmarivaux                                           33\nmolière                                            31\nregnard, jean-françois                             24\n                                                   ..\npompiganonyme, jean-jacques lefranc, marquis de     1\nfrançois-augustin paradis de moncrif                1\nmathieu, pierre                                     1\nplancher de valcour, philippe                       1\nlafont, joesph de                                   1\nName: corrected, Length: 188, dtype: int64"
     },
     "execution_count": 48,
     "metadata": {},
     "output_type": "execute_result"
    }
   ],
   "source": [
    "value_counts_lower_case = df[\"corrected\"].value_counts()\n",
    "value_counts_lower_case"
   ],
   "metadata": {
    "collapsed": false,
    "pycharm": {
     "name": "#%%\n"
    }
   }
  }
 ],
 "metadata": {
  "kernelspec": {
   "display_name": "Python 3",
   "language": "python",
   "name": "python3"
  },
  "language_info": {
   "codemirror_mode": {
    "name": "ipython",
    "version": 2
   },
   "file_extension": ".py",
   "mimetype": "text/x-python",
   "name": "python",
   "nbconvert_exporter": "python",
   "pygments_lexer": "ipython2",
   "version": "2.7.6"
  }
 },
 "nbformat": 4,
 "nbformat_minor": 0
}